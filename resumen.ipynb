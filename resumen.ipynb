{
 "cells": [
  {
   "attachments": {},
   "cell_type": "markdown",
   "metadata": {},
   "source": [
    "**1. ¿Qué es el cálculo diferencial?**\n",
    "\n",
    "`Res:` Estudia la tasa de cambio de las funciones cuando los cambios son muy pequeños.\n",
    "\n",
    "**2. ¿Qué es el cálculo infinitesimal?**\n",
    "\n",
    "`Res:` Es el estudio del cambio, sobre todo en el análisis de funciones.\n",
    "\n",
    "**3. ¿Qué es un límite?**\n",
    "\n",
    "`Res:` Es aproximar los valores de una función a un punto para estimar el valor de la función. Este valor se denota como L\n",
    "\n",
    "**4. La derivada nace intentando resolver el problema de:**\n",
    "\n",
    "`Res:` Encontrar la pendiente de la recta tangente a un punto.\n",
    "\n",
    "**5. Una razón de cambio nos dice:**\n",
    "\n",
    "`Res:` Que tan rápido crece o decrece una función respecto a una variable\n",
    "\n",
    "**6. Tenemos que hacer la implementación de la dervida discreta porque:**\n",
    "\n",
    "`Res:` Las computadoras tienen un conjunto finito de datos para procesar.\n",
    "\n",
    "**7. La regla de la cadena nos sirve para:**\n",
    "\n",
    "`Res:` Encontrar la derivada en funciones compuestas\n",
    "\n",
    "**8. Cuando la derivada es igual a cero, esto nos dice que ese punto es un:**\n",
    "\n",
    "`Res:` Máximo o mínimo\n",
    "\n",
    "**9. ¿Qué significa optimizar una función?**\n",
    "\n",
    "`Res:` Encontrar un máximo o un mínimo dependiendo de nuestros objetivos.\n",
    "\n",
    "**10. Las derivada en una función de activación nos indica:**\n",
    "\n",
    "`Res:` Qué tan difícil será optimizar esa función para su aprendizaje."
   ]
  }
 ],
 "metadata": {
  "language_info": {
   "name": "python"
  },
  "orig_nbformat": 4
 },
 "nbformat": 4,
 "nbformat_minor": 2
}
