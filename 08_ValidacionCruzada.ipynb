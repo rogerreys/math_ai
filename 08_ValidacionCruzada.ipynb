{
 "cells": [
  {
   "attachments": {},
   "cell_type": "markdown",
   "metadata": {},
   "source": [
    "# Validación cruzada\n",
    "Tecnica utilizafa para evaluar los resultados de un analisis estadistico y garantizar que son independientes de la particion entre datos de entrenamiento y prueba\n",
    "\n",
    "<img src=\"https://upload.wikimedia.org/wikipedia/commons/f/f2/K-fold_cross_validation.jpg\">\n",
    "\n",
    "## Que es?\n",
    "La validación cruzada (cross-validation en inglés) es una técnica utilizada en el campo del aprendizaje automático y la estadística para evaluar el rendimiento de un modelo de manera más confiable y estimar cómo se comportará en datos no vistos. La idea principal detrás de la validación cruzada es dividir los datos disponibles en diferentes conjuntos de entrenamiento y prueba, permitiendo así utilizar los datos de manera más eficiente.\n",
    "\n",
    "## Procedimiento\n",
    "El proceso general de validación cruzada se puede describir en los siguientes pasos:\n",
    "\n",
    "1. `División de los datos:` El conjunto de datos se divide en dos o más subconjuntos. El número de subconjuntos se elige según la técnica específica de validación cruzada utilizada. El subconjunto más comúnmente utilizado es el de entrenamiento y prueba, donde los datos se dividen en un conjunto de entrenamiento para ajustar el modelo y un conjunto de prueba para evaluar su rendimiento.\n",
    "\n",
    "2. `Entrenamiento del modelo:` Se ajusta el modelo utilizando el conjunto de entrenamiento. Esto implica alimentar los datos al modelo y permitir que aprenda los patrones y las relaciones presentes en ellos.\n",
    "\n",
    "3. `Evaluación del modelo:` Se evalúa el rendimiento del modelo utilizando el conjunto de prueba. Se aplican las métricas de evaluación adecuadas para medir el rendimiento del modelo, como precisión, exactitud, error cuadrático medio, etc.\n",
    "\n",
    "4. `Repetición del proceso:` Se repiten los pasos anteriores utilizando diferentes combinaciones de conjuntos de entrenamiento y prueba. Esto implica cambiar las particiones de los datos y volver a entrenar y evaluar el modelo varias veces.\n",
    "\n",
    "5. `Promedio de los resultados:` Se promedian los resultados de todas las repeticiones para obtener una estimación más robusta del rendimiento del modelo. Esto ayuda a reducir el sesgo y proporciona una evaluación más precisa.\n",
    "\n",
    "## Ejemplo  \n",
    "Aquí tienes un ejemplo de cómo se puede aplicar la validación cruzada utilizando la técnica de validación cruzada k-fold:\n",
    "\n",
    "Supongamos que tienes un conjunto de datos con 1000 ejemplos. Decides utilizar la validación cruzada k-fold con k=5.\n",
    "\n",
    "Divide los datos en cinco partes (k=5) del mismo tamaño, cada una con 200 ejemplos. Estas partes se denominan pliegues.\n",
    "\n",
    "Realiza cinco iteraciones. En cada iteración, utiliza cuatro pliegues (800 ejemplos) para entrenar el modelo y el pliegue restante (200 ejemplos) para evaluar el rendimiento.\n",
    "\n",
    "Calcula el rendimiento del modelo en cada iteración utilizando una métrica de evaluación adecuada.\n",
    "\n",
    "Promedia los resultados obtenidos en las cinco iteraciones para obtener una estimación más confiable del rendimiento del modelo.\n",
    "\n",
    "La validación cruzada permite utilizar de manera más eficiente los datos disponibles y proporciona una evaluación más confiable del rendimiento del modelo, ya que utiliza múltiples conjuntos de entrenamiento y prueba. Esto ayuda a detectar problemas de sobreajuste (overfitting) y a estimar cómo se generalizará el modelo en datos no vistos."
   ]
  }
 ],
 "metadata": {
  "language_info": {
   "name": "python"
  },
  "orig_nbformat": 4
 },
 "nbformat": 4,
 "nbformat_minor": 2
}
