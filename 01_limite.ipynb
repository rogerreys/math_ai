{
 "cells": [
  {
   "attachments": {},
   "cell_type": "markdown",
   "metadata": {},
   "source": [
    "# Notacion de limite\n",
    "El límite es un concepto fundamental que describe el comportamiento de una función cuando el valor de su variable independiente se acerca a un cierto valor, ya sea un número real o el infinito. El límite permite estudiar el comportamiento de una función en puntos cercanos o en el infinito\n",
    "\n",
    "\n",
    "El limite de f(x) cuando x tiende a 'a' es L.\n",
    "$$\\lim_{x \\to a} f(x) = L$$\n",
    "\n",
    "Para cualquier valor ε (epsilon) positivo, existe un valor δ (delta) positivo tal que cuando x se acerque lo suficiente a `a` (pero no igual a a), los valores de f(x) se acercarán a un valor `L`, siempre que la distancia entre `x` y `a` sea menor que δ. Esto se puede expresar matemáticamente de la siguiente manera:\n",
    "\n",
    "Para todo:\n",
    "ε > 0, existe δ > 0 tal que si 0 < |x - a| < δ, entonces |f(x) - L| < ε.\n",
    "\n",
    "\n",
    "Los límites permiten \n",
    "- Analizar el comportamiento de una función en puntos críticos, \n",
    "- Determinar si existen asíntotas en el infinito\n",
    "- Estudiar la continuidad de una función \n",
    "- Resolver problemas relacionados con la derivación e integración de funciones."
   ]
  }
 ],
 "metadata": {
  "language_info": {
   "name": "python"
  },
  "orig_nbformat": 4
 },
 "nbformat": 4,
 "nbformat_minor": 2
}
