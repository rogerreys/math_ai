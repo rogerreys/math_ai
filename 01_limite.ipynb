{
 "cells": [
  {
   "attachments": {},
   "cell_type": "markdown",
   "metadata": {},
   "source": [
    "# Notacion de limite\n",
    "El límite es un concepto fundamental que describe el comportamiento de una función cuando el valor de su variable independiente se acerca a un cierto valor, ya sea un número real o el infinito. El límite permite estudiar el comportamiento de una función en puntos cercanos o en el infinito\n",
    "\n",
    "\n",
    "El limite de f(x) cuando x tiende a 'a' es L.\n",
    "$$\\lim_{x \\to a} f(x) = L$$\n",
    "\n",
    "Para cualquier valor ε (epsilon) positivo, existe un valor δ (delta) positivo tal que cuando x se acerque lo suficiente a `a` (pero no igual a a), los valores de f(x) se acercarán a un valor `L`, siempre que la distancia entre `x` y `a` sea menor que δ. Esto se puede expresar matemáticamente de la siguiente manera:\n",
    "\n",
    "Para todo:\n",
    "ε > 0, existe δ > 0 tal que si 0 < |x - a| < δ, entonces |f(x) - L| < ε.\n",
    "\n",
    "\n",
    "Los límites permiten \n",
    "- Analizar el comportamiento de una función en puntos críticos, \n",
    "- Determinar si existen asíntotas en el infinito\n",
    "- Estudiar la continuidad de una función \n",
    "- Resolver problemas relacionados con la derivación e integración de funciones.\n",
    "\n",
    "## Analogia\n",
    "Una analogía para entender el límite es la siguiente: supón que tienes una fogata encendida frente a tí, y quieres comprobar que el fuego que estás viendo existe, que tus ojos no te engañan. Para ello, acercas las manos al fuego, cada vez más despacio, a ver si las sientes más calientes, pero nunca llegas a estar directamente en el fuego porque te puedes quemar."
   ]
  },
  {
   "attachments": {},
   "cell_type": "markdown",
   "metadata": {},
   "source": [
    "# Limites Laterales\n",
    "Decimos que si el limite por izquierda y por derecha son iguales cuando tienden a `a`, entonces el lmite `L` existe\n",
    "## Limites Lateral izquierda\n",
    "$$\\lim_{x \\to a^-} f(x) = L$$\n",
    "\n",
    "## Limites Lateral derecha\n",
    "$$\\lim_{x \\to a^+} f(x) = L$$"
   ]
  },
  {
   "cell_type": "code",
   "execution_count": 7,
   "metadata": {},
   "outputs": [
    {
     "data": {
      "image/png": "[encoded data removed]",
      "text/plain": [
       "<Figure size 640x480 with 1 Axes>"
      ]
     },
     "metadata": {},
     "output_type": "display_data"
    }
   ],
   "source": [
    "import numpy as np\n",
    "import matplotlib.pyplot as plt\n",
    "\n",
    "def f(x):\n",
    "    # x not equals 2 \n",
    "    return ((x**2-4)/(x-2))\n",
    "\n",
    "x = np.linspace(-5,5, 100)\n",
    "y = f(x)\n",
    "\n",
    "plt.plot(x,y, color='blue')\n",
    "plt.scatter(2, 4, color='blue', label='Punto adicional')\n",
    "plt.show()"
   ]
  },
  {
   "attachments": {},
   "cell_type": "markdown",
   "metadata": {},
   "source": [
    "$$f(x)=\\frac{x^2-4}{x-2},x \\ne 2$$\n",
    "$$f(x)=\\frac{x^2-4}{x-2},x \\ne 2$$\n",
    "$$\\lim_{x \\to 2} f(x) = \\lim_{x \\to 2} \\frac{x^2-4}{x-2} = \\lim_{x \\to 2} \\frac{(x-2)(x+2)}{x-2}$$\n",
    "$$\\lim_{x \\to 2}(x+2) = 2+2 = 4$$\n",
    "El limite cuando x tiende a 2, es 4"
   ]
  }
 ],
 "metadata": {
  "kernelspec": {
   "display_name": "py39",
   "language": "python",
   "name": "python3"
  },
  "language_info": {
   "codemirror_mode": {
    "name": "ipython",
    "version": 3
   },
   "file_extension": ".py",
   "mimetype": "text/x-python",
   "name": "python",
   "nbconvert_exporter": "python",
   "pygments_lexer": "ipython3",
   "version": "3.9.16"
  },
  "orig_nbformat": 4
 },
 "nbformat": 4,
 "nbformat_minor": 2
}
