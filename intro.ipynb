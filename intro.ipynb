{
 "cells": [
  {
   "attachments": {},
   "cell_type": "markdown",
   "metadata": {},
   "source": [
    "# Estadistica descriptiva vs inferencial\n",
    "## Descriptiva\n",
    "Parte de la estadistica que arregla los datos de forma que **puedan ser analizados e interpretados**\n",
    "Nos ayuda a determinar:\n",
    "- la `tendencia` central de una variable\n",
    "- la `variabilidad` de una variable\n",
    "- La `distribucion` de una variable (si es unimodal, bimodal, multimodal)\n",
    "\n",
    "## Inferencial\n",
    "Parte de la estadistica que **busca predecir o deducir caracteristicas o resultados** esperados de una poblacion, basados en los datos obtenidos de una muestra de esa poblacion\n",
    "Nos ayuda a determinar, a partir de una muestra de la poblacion;\n",
    "- Muestreo\n",
    "- Intervalos de confianza\n",
    "- Validacion de hipotesis\n",
    "- Evitar sesgos\n",
    "\n",
    "Se obtiene conclusiones que se obtienen sobre los parametros de la poblacion de datos.\n",
    "Estudio del grado de fiabilidad de los resultados extraidos de estudio\n",
    "\n",
    "### Uso de data science y machine learning\n",
    "Tanto en un analisis como en un modulo predictivo, la estadistica inferencial servira para:\n",
    "- Entender la `distribucion` de nuestros datos\n",
    "- Crear y validad `hipotesis`\n",
    "- Hacer `experimentos`\n",
    "- Elegir los `modelos predictivos` adecuados segun los datos"
   ]
  },
  {
   "attachments": {},
   "cell_type": "markdown",
   "metadata": {},
   "source": [
    "# Estadisticos principales\n",
    "## Experimento\n",
    "Procedimiento que puede repetirse infinitamente y tiene un conjunto bien definido de resultados posibles, conocido como espacio muestral\n",
    "- `Experimento Aleatorio:` Si tiene mas de un resultado posible. Ejm: Lanzar una moneda, Lanzar un dado, escojer una carta\n",
    "- `Determinista:` si solo tiene un resultado posible. Ejm: tiempo de llegar de un punto A a un B, Lanzamiento de un objeto\n",
    "\n",
    "## Poblacion y muestra\n",
    "`Muestra:` Subconjunto de datos perteneciente a una poblacion.\n",
    "Condiciones:\n",
    "- `Numero` suficiente de registros para ser estadisticamente significativo.\n",
    "- Representacion **no sesgada** de la informacion total\n",
    "\n",
    "## Evento\n",
    "Cada uno de los posibles resultados de un experimento\n",
    "Ejm. lanzar un moneda y esperar un resultado\n",
    "\n",
    "## Variable\n",
    "Es una caracteristica que puede obtener diferentes valores de la poblacion o la muestra\n",
    "Tipos:\n",
    "- Cualitativos: atributos (No medibles), Ejm: Color de cabello, raza\n",
    "- Cuantitativos: Numeros (Medibles)\n",
    "    - Discretas\n",
    "    - Continuas\n",
    "\n",
    "## Probabilidad\n",
    "Mide **que tan posible** es que ocurra un evento determinado. \n",
    "\n",
    "El analisis de los ***eventos*** probabilisticos se denomina **estadistica**\n",
    "\n",
    "## Probabilidad condicionada\n",
    "Posibilidad de que ocurra un evento como consecuencia de que otro evento haya sucedido\n",
    "\n",
    "$$ P(A|B) = \\frac{P(A \\land B)}{P(B)} $$"
   ]
  }
 ],
 "metadata": {
  "language_info": {
   "name": "python"
  },
  "orig_nbformat": 4
 },
 "nbformat": 4,
 "nbformat_minor": 2
}
