{
 "cells": [
  {
   "attachments": {},
   "cell_type": "markdown",
   "metadata": {},
   "source": [
    "# Bootstrapping o re-muestreo con reemplazo\n",
    "- Metodo de remuestreo de datos dentro de una muestra aleatoria. Se usa para hallar una aproximacion a la distribucion de la variable analizada.\n",
    "- Muy util en muestras pequeñas o en distribuciones muy sesgadas\n",
    "<img src=\"https://miro.medium.com/v2/resize:fit:1400/1*cmA1PPO4Us6_okb5UMhb0Q.jpeg\">\n",
    "\n",
    "\n",
    "Es una técnica que permite estimar la incertidumbre o variabilidad de un estadístico de interés, utilizando únicamente la muestra de datos disponible.\n",
    "\n",
    "El bootstrapping se basa en generar múltiples muestras de re-muestreo a partir de la muestra original, mediante el muestreo aleatorio con reemplazo. Esto implica tomar muestras de la muestra original del mismo tamaño, pero permitiendo que cada elemento pueda ser seleccionado varias veces. A partir de estas muestras de re-muestreo, se calcula el estadístico de interés en cada una de ellas y se utiliza esta distribución de estadísticos para estimar la variabilidad.\n",
    "\n",
    "## Pasos \n",
    "El proceso de bootstrapping se lleva a cabo de la siguiente manera:\n",
    "\n",
    "1. Se toma una muestra aleatoria con reemplazo del conjunto de datos original, lo que implica seleccionar aleatoriamente un dato y devolverlo al conjunto de datos antes de seleccionar el siguiente.\n",
    "\n",
    "2. Se repite el paso 1 varias veces, generalmente miles de veces, para generar múltiples muestras de tamaño igual al del conjunto de datos original.\n",
    "\n",
    "3. Para cada muestra, se calcula el estadístico de interés (por ejemplo, la media, la mediana, la desviación estándar, etc.).\n",
    "\n",
    "4. Se utiliza la distribución de los estadísticos calculados en las muestras bootstrap para estimar la incertidumbre del estadístico original o para construir intervalos de confianza.\n",
    "\n",
    "# ¿Por qué usar bootstrapping?\n",
    "Porque es un método muy versátil y tenemos acceso al poder de cómputo necesario para hacerlo.\n",
    "\n",
    "Como recordarás de clases anteriores de este curso, **los métodos de t student y de Pearson asumen criterios de la población**. Pero esto no siempre es así. No siempre podremos asumir ciertos parámetros y es aquí que bootstrapping se vuelve muy útil porque hace simulaciones de las muestras.\n",
    "\n",
    "Además, hoy en día es muy accesible la capacidad de cómputo para hacerlo (a menos que sea big data). Bootstrapping es un método que se desarrolló en los 80s, cuando la computación era muy limitada.\n",
    "\n",
    "## Ejm\n",
    "En lugar de hacer suposiciones sobre la distribución subyacente de los datos o realizar pruebas de hipótesis complicadas, puedes utilizar el bootstrapping. Realizas múltiples re-muestreos de tu muestra original seleccionando aleatoriamente observaciones con reemplazo, y para cada una de estas muestras, calculas la media. Digamos que generas 1,000 muestras de re-muestreo y obtienes 1,000 medias.\n",
    "\n",
    "Con estas 1,000 medias, puedes calcular:\n",
    "- la desviación estándar\n",
    "- El intervalo de confianza \n",
    "- Cualquier otra medida de variabilidad que desees. \n",
    "\n",
    "Estas estimaciones te proporcionarán información sobre la incertidumbre asociada a tu estimación de la media poblacional.\n",
    "\n",
    " También es una herramienta útil en casos en los que la muestra es pequeña y se requiere información sobre la variabilidad de los estadísticos de interés.\n"
   ]
  },
  {
   "cell_type": "code",
   "execution_count": 5,
   "metadata": {},
   "outputs": [
    {
     "name": "stdout",
     "output_type": "stream",
     "text": [
      "23.5 7.269800547470337\n",
      "11.504829096673944 35.495170903326056\n"
     ]
    }
   ],
   "source": []
  }
 ],
 "metadata": {
  "kernelspec": {
   "display_name": "py39",
   "language": "python",
   "name": "python3"
  },
  "language_info": {
   "codemirror_mode": {
    "name": "ipython",
    "version": 3
   },
   "file_extension": ".py",
   "mimetype": "text/x-python",
   "name": "python",
   "nbconvert_exporter": "python",
   "pygments_lexer": "ipython3",
   "version": "3.9.16"
  },
  "orig_nbformat": 4
 },
 "nbformat": 4,
 "nbformat_minor": 2
}
