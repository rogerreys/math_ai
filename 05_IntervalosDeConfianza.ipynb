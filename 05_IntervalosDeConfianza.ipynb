{
 "cells": [
  {
   "attachments": {},
   "cell_type": "markdown",
   "metadata": {},
   "source": [
    "# Intervalos de confianza\n",
    "- Un par o varios pares de numeros entre los cuales se estima que estará cierto valor desconocido respecto de un parametro poblacional con un determinado nivel de confianza\n",
    "- Son simetricos respecto a la media\n",
    "- \"Imagina que un niño quiere saber cuánto mide su perro. El niño mide al perro varias veces y obtiene una serie de medidas ligeramente diferentes cada vez. El niño se pregunta cuál es la medida “correcta” y cuánto margen de error hay en las medidas que tomó.\n",
    "\n",
    "Un intervalo de confianza puede ayudar al niño a responder estas preguntas. Un intervalo de confianza es un rango de valores dentro del cual se espera que se encuentre el valor verdadero de la medida que se está estimando, con cierto nivel de confianza.\n",
    "\n",
    "Por ejemplo, si el niño mide al perro varias veces y obtiene medidas de 60 cm, 62 cm, 61 cm, 63 cm y 59 cm, puede calcular un intervalo de confianza para estimar la verdadera altura del perro. Supongamos que utiliza un nivel de confianza del 95%. El niño puede calcular que el intervalo de confianza para la altura del perro es de 58 cm a 64 cm, lo que significa que con un 95% de confianza se espera que la verdadera altura del perro se encuentre en ese rango.\n",
    "\n",
    "<img src=\"https://fblancopsy.files.wordpress.com/2022/01/img3.png\">"
   ]
  },
  {
   "attachments": {},
   "cell_type": "markdown",
   "metadata": {},
   "source": [
    "# Nivel de significacion o nivel de confianza\n",
    "- El nivel de significacion o alfa es el nivel limite para juzgar si un resultado es o no es estadisticamente significativo\n",
    "- Si el valor de significacion es menor que el nivel de significacion, el resultado es estadisticamente significativo \n",
    "- Determinar si los resultados obtenidos son estadísticamente significativos. \n",
    "- En términos más sencillos, el nivel de significación establece cuán seguro quieres estar antes de rechazar una hipótesis nula. Se expresa como un porcentaje y comúnmente se establece en 0.05 (5%) o 0.01 (1%).\n",
    "\n",
    "Por ejemplo, supongamos que se realiza un estudio para investigar si un nuevo medicamento es efectivo para tratar una enfermedad en particular. La hipótesis nula (H0) sería que el medicamento no tiene ningún efecto, mientras que la hipótesis alternativa (H1) sería que el medicamento sí tiene un efecto.\n",
    "\n",
    "Si se establece un nivel de significación del 0.05 (5%), significa que estás dispuesto a aceptar un 5% de probabilidad de cometer un error tipo I, es decir, rechazar incorrectamente la hipótesis nula cuando es verdadera. Si al analizar los datos del estudio, se obtiene un valor de p (probabilidad) menor a 0.05, se rechaza la hipótesis nula y se concluye que hay evidencia suficiente para respaldar la hipótesis alternativa.\n",
    "\n",
    "<img src=\"https://conceptosclaros.com/wp-content/uploads/2017/03/intervalo-confianza-normal-estandar.png\">\n",
    "\n",
    "**Si el valor de significación es menor que el nivel de significación, el resultado es estadísticamente**"
   ]
  },
  {
   "attachments": {},
   "cell_type": "markdown",
   "metadata": {},
   "source": [
    "# Cálculo de intervalo de confianza\n",
    "## Ejemplo I\n",
    "Paso 1:\n",
    "<br><img src=\"./assts/img/ejercicioI_nivel_significacion.png\">\n",
    "\n",
    "Paso 2:\n",
    "<br><img src=\"./assts/img/busquedaTablaZ.png\">\n",
    "\n",
    "Paso 3:\n",
    "<br><img src=\"./assts/img/ejercicioI_nivel_significacion2.png\">\n",
    "\n",
    "Paso 4:\n",
    "<br><img src=\"./assts/img/ejercicioI_nivel_significacion3.png\">\n",
    "\n",
    "Paso 5:\n",
    "<br><img src=\"./assts/img/ejercicioI_nivel_significacion4.png\">\n",
    "\n",
    "## Ejemplo II\n",
    "<br><img src=\"./assts/img/ejercicioII_nivel_significacion1.png\">\n",
    "<br><img src=\"./assts/img/ejercicioII_nivel_significacion2.png\">\n",
    "<br><img src=\"./assts/img/ejercicioII_nivel_significacion3.png\">\n",
    "<br><img src=\"./assts/img/ejercicioII_nivel_significacion4.png\">\n",
    "<br><img src=\"./assts/img/ejercicioII_nivel_significacion5.png\">\n",
    "<br><img src=\"./assts/img/ejercicioII_nivel_significacion6.png\">"
   ]
  },
  {
   "cell_type": "code",
   "execution_count": null,
   "metadata": {
    "vscode": {
     "languageId": "plaintext"
    }
   },
   "outputs": [],
   "source": []
  }
 ],
 "metadata": {
  "language_info": {
   "name": "python"
  },
  "orig_nbformat": 4
 },
 "nbformat": 4,
 "nbformat_minor": 2
}
