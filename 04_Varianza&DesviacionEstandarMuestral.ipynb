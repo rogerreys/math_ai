{
 "cells": [
  {
   "attachments": {},
   "cell_type": "markdown",
   "metadata": {},
   "source": [
    "# Varianza y desviación estándar muestral\n",
    "- Indica que tan dispersos estan los datos respecto a la media\n",
    "- La desviacion estandar es la raiz cuadrada de la varianza\n",
    "- Ejm: edades de la poblacion de una ciudad\n",
    "<img src=\"https://www.fhybea.com/herramientas/imagenes_articulos/desviacion-tipica/ejemplos-desviacion.png\">\n",
    "\n",
    "## Calculo de la varianza y desviacion estandar\n",
    "\n",
    "|Muestral|Poblacional|\n",
    "|---|---|\n",
    "|$s = \\sqrt{s^2} = \\sqrt{\\frac{\\sum_{i=1}^n (x_i-\\overline{x})^2}{n-1}}$ | $\\sigma = \\sqrt{\\sigma^2} = \\sqrt{\\frac{\\sum_{i=1}^n (x_i-\\mu)^2}{N}}$|\n"
   ]
  },
  {
   "attachments": {},
   "cell_type": "markdown",
   "metadata": {},
   "source": [
    "||Varianza|Desviacion Estandar|Media|\n",
    "|---|---|---|---|\n",
    "|Poblacion| $\\sigma^2 = \\frac{\\sum_{i=1}^N (x_i-\\mu)^2}{N}$|$\\sigma = \\sqrt{\\sigma^2} = \\sqrt{\\frac{\\sum_{i=1}^N (x_i-\\mu)^2}{N}}$ | $\\mu = \\frac{\\sum_{i=1}^N (X_i)}{N}$ |\n",
    "|Muestra| $ s^2 = \\frac{\\sum_{i=1}^n (x_i-\\overline{x})^2}{n-1}$ |$s = \\sqrt{s^2} = \\sqrt{\\frac{\\sum_{i=1}^n (x_i-\\overline{x})^2}{n-1}}$| $\\overline{x} = \\frac{\\sum_{i=1}^n (X_i)}{n}$ |\n"
   ]
  },
  {
   "cell_type": "code",
   "execution_count": 15,
   "metadata": {},
   "outputs": [
    {
     "name": "stdout",
     "output_type": "stream",
     "text": [
      "median 22.714285714285715 var 155.06122448979593, desv 12.452358189909088\n"
     ]
    }
   ],
   "source": [
    "import numpy as np\n",
    "data = [7,10,12,13,16,9,8,12,8,6,16,23,11,17,20,21,25,30,31,33,37,39,27,36,40,43,41,45]\n",
    "# data = [28,24,25,23,38,52]\n",
    "# data = [28,24,28,24,28,24]\n",
    "def vari(data, media, muestra):\n",
    "    sum = 0\n",
    "    for i in data:\n",
    "        sum += pow(i-media,2)\n",
    "    return (sum/muestra)\n",
    "\n",
    "\n",
    "median = np.mean(data)\n",
    "# std = np.std(data)\n",
    "std2 = vari(data, median, len(data)-1)\n",
    "print(f\"median {median} var {std2}, desv {np.sqrt(std2)}\")"
   ]
  }
 ],
 "metadata": {
  "kernelspec": {
   "display_name": "py39",
   "language": "python",
   "name": "python3"
  },
  "language_info": {
   "codemirror_mode": {
    "name": "ipython",
    "version": 3
   },
   "file_extension": ".py",
   "mimetype": "text/x-python",
   "name": "python",
   "nbconvert_exporter": "python",
   "pygments_lexer": "ipython3",
   "version": "3.9.16"
  },
  "orig_nbformat": 4
 },
 "nbformat": 4,
 "nbformat_minor": 2
}
