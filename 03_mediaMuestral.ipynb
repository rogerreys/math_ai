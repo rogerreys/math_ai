{
 "cells": [
  {
   "attachments": {},
   "cell_type": "markdown",
   "metadata": {},
   "source": [
    "# Media Muestral\n",
    "## Media\n",
    "Suma de los datos dividida entre la cantidad de datos\n",
    "$$X= \\frac{x_1+x_2+x_3+...+x_n}{N}$$\n",
    "\n",
    "## Moda\n",
    "El dato que mas se repite\n",
    "\n",
    "## Mediana\n",
    "Es ek dati qye esta en el centro de todos\n",
    "\n",
    "Si N es impar → $x_\\frac{(N+1)}{2}$\n",
    "\n",
    "Si N es par → $\\frac{1}{2}*(x_\\frac{(N)}{2} + x_(\\frac{(N)}{2}+1)) $\n",
    "\n",
    "## Media Muestral\n",
    "- Media aritmetica = promedio = media\n",
    "- Valor que se obtiene de sumar un conjunto de valores cuantitativos y dividirlo por el numero total de sumados\n",
    "- **Media muestral** $\\overline{x} \\ne$ **media problacional** $\\mu$\n",
    "- Ejm: Estimacion puntual de la edad promedio de una poblacion\n",
    "\n",
    "\n",
    "|Muestral|Poblacional|\n",
    "|---|---|\n",
    "|$s = \\sqrt{s^2} = \\sqrt{\\frac{\\sum_{i=1}^n (x_i-\\overline{x})^2}{n-1}}$ | $\\sigma = \\sqrt{\\sigma^2} = \\sqrt{\\frac{\\sum_{i=1}^n (x_i-\\mu)^2}{N}}$|"
   ]
  }
 ],
 "metadata": {
  "language_info": {
   "name": "python"
  },
  "orig_nbformat": 4
 },
 "nbformat": 4,
 "nbformat_minor": 2
}
