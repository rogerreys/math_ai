{
 "cells": [
  {
   "attachments": {},
   "cell_type": "markdown",
   "metadata": {},
   "source": [
    "# Obteniendo máximos y mínimos con la derivada\n",
    "Imagínate que la siguiente curva es una montaña rusa, y que la recta tangente a esta curva en cualquier punto es el carrito de la montaña rusa. \n",
    "Cuando el carrito va subiendo, este tiene cierta inclinación. Cuando va bajando, tiene una inclinación opuesta. Esta inclinación nos la da la derivada. Como sabrás, **si la derivada es positiva, la curva incrementa, y al contrario si la derivada es negativa**.\n",
    "\n",
    "<img src=\"https://telegra.ph/file/c2536660f8140362656da.png\" width=\"600px\"/>\n",
    "\n",
    "## Punto crítico\n",
    "Cuando la derivada vale cero en algún punto. En este caso, la recta tangente a dicho punto **es completamente horizontal**. Es en este momento que nos encontramos un posible máximo o mínimo. \n",
    "\n",
    "- Punto máximo LOCAL si la derivada cambia de positivo a negativo.\n",
    "- Punto mínimo la derivada cambia de negativo a positivo."
   ]
  },
  {
   "attachments": {},
   "cell_type": "markdown",
   "metadata": {},
   "source": [
    "# Ejemplo\n",
    "Queremos construir una oficina con solo 50 mts de perímetro de paredes abarcando el área más grande posible (punto máximo). La oficina solo tiene 3 paredes y una vista al mar.\n",
    "\n",
    "<img src=\"https://static.platzi.com/media/articlases/Images/2022-05-26.png\"/>\n",
    "\n",
    "Donde <br>\n",
    "A: area, P: Perimetro <br>\n",
    "$A=x*y$ <br>\n",
    "$P = 2x + y = 50$ <br>\n",
    "$y = 50-2x$ <br>\n",
    "$f(x) = x (50-2x) = -2x^2+50x$ <br>\n",
    "$f'(x) = -4x+50$\n",
    "\n",
    "Se debe calcular cuando la pendiente sea igual a cero\n",
    "\n",
    "$f'(x) = -4x+50 = 0$ <br>\n",
    "$-4x+50 → x = \\frac{50}{4} = \\frac{25}{2} = 12.5$\n",
    "\n",
    "Para conocer si es un maximo o un minimo se debe reemplazar en la funcion\n",
    "$f'(12.45) = -4(12.45)+50 = 0.2$ (Izquierda → Creciente)<br>\n",
    "$f'(12.55) = -4(12.45)+50 = -0.2$ (Derecha → Decreciente)<br>\n",
    "Entonces el valor es el maximo\n",
    "\n",
    "Por lo tanto\n",
    "$P = 2(12.5) + y = 50$ <br>\n",
    "$y = 25$ <br>\n",
    "\n",
    "$A=x*y$ <br>\n",
    "$A=12.5*25 = 312.5$ <br>\n",
    "\n",
    "`Conclusion`\n",
    "\n",
    "Con un perimetro de 12.5, 25 y 12.5 se puede obtener el maximo de area posible de 312.5 $m^2$"
   ]
  }
 ],
 "metadata": {
  "language_info": {
   "name": "python"
  },
  "orig_nbformat": 4
 },
 "nbformat": 4,
 "nbformat_minor": 2
}
