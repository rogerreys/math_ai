{
 "cells": [
  {
   "attachments": {},
   "cell_type": "markdown",
   "metadata": {},
   "source": [
    "# Calculo diferencial\n",
    "Estudia la tasa de cambio de las funciones cuando esos cambios son muy pequeños (Se aproximan a cero). Su principal herramienta es **la derivada**\n",
    "\n",
    "<img src=\"https://38.media.tumblr.com/tumblr_ma7xe1Q1gc1qjc5feo1_400.gif\" width=\"500px\"/>\n",
    "\n",
    "# Calculo integral\n",
    "Estudi el proceso de intregracion o de antiderivacion\n",
    "\n",
    "<img src=\"https://ocw.unizar.es/ciencias-experimentales/calculo-integral-para-primeros-cursos-univesitarios/imagenes/riemann_sum__leftbox_.gif\" width=\"500px\"/>"
   ]
  }
 ],
 "metadata": {
  "language_info": {
   "name": "python"
  },
  "orig_nbformat": 4
 },
 "nbformat": 4,
 "nbformat_minor": 2
}
