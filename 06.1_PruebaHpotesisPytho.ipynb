{
 "cells": [
  {
   "attachments": {},
   "cell_type": "markdown",
   "metadata": {},
   "source": [
    "# Tipo de pruebas de hipotesis"
   ]
  },
  {
   "cell_type": "code",
   "execution_count": 1,
   "metadata": {},
   "outputs": [],
   "source": [
    "import numpy as np\n",
    "import pandas as pd\n",
    "import scipy.stats as st\n",
    "from scipy.stats import f_oneway\n",
    "from scipy.stats import ttest_ind\n",
    "from sklearn import datasets"
   ]
  },
  {
   "attachments": {},
   "cell_type": "markdown",
   "metadata": {},
   "source": [
    "## Se usara la bas de datos iris"
   ]
  },
  {
   "cell_type": "code",
   "execution_count": 2,
   "metadata": {},
   "outputs": [],
   "source": [
    "csv_url = 'https://archive.ics.uci.edu/ml/machine-learning-databases/iris/iris.data'\n",
    "# using the attribute information as the column names\n",
    "col_names = ['Sepal_Length','Sepal_Width','Petal_Length','Petal_Width','Class']\n",
    "iris =  pd.read_csv(csv_url, names = col_names)"
   ]
  },
  {
   "attachments": {},
   "cell_type": "markdown",
   "metadata": {},
   "source": [
    "# Hipotesis \n",
    "- H0: La distribucion de Sepal_Length, Sepal_Width son muy similares\n",
    "- H1: La distribucion de Sepal_Length, Sepal_Width son muy diferentes"
   ]
  },
  {
   "attachments": {},
   "cell_type": "markdown",
   "metadata": {},
   "source": [
    "## Tipos de pruebas\n",
    "### A. Distribucion t de Student\n",
    "#### Ecuacion\n",
    "$$ t=\\frac{(x_1-x_2)}{\\sqrt{\\frac{(S_1^2)}{n_1} + \\frac{(S_2^2)}{n_2} }}$$\n",
    "\n",
    "#### Paso 1\n",
    "\n",
    "$$SE = \\frac{\\sigma}{\\sqrt{N}} = \\frac{(S_1^2)}{n_1}$$"
   ]
  },
  {
   "cell_type": "code",
   "execution_count": 3,
   "metadata": {},
   "outputs": [
    {
     "name": "stderr",
     "output_type": "stream",
     "text": [
      "C:\\Users\\Usuario\\AppData\\Local\\Temp\\ipykernel_8640\\1057388724.py:1: FutureWarning: The default value of numeric_only in DataFrame.std is deprecated. In a future version, it will default to False. In addition, specifying 'numeric_only=None' is deprecated. Select only valid columns or specify the value of numeric_only to silence this warning.\n",
      "  se_leg = iris.std()['Sepal_Length']/np.sqrt(10)\n",
      "C:\\Users\\Usuario\\AppData\\Local\\Temp\\ipykernel_8640\\1057388724.py:2: FutureWarning: The default value of numeric_only in DataFrame.std is deprecated. In a future version, it will default to False. In addition, specifying 'numeric_only=None' is deprecated. Select only valid columns or specify the value of numeric_only to silence this warning.\n",
      "  se_wid = iris.std()['Sepal_Width']/np.sqrt(10)\n"
     ]
    }
   ],
   "source": [
    "se_leg = iris.std()['Sepal_Length']/np.sqrt(10)\n",
    "se_wid = iris.std()['Sepal_Width']/np.sqrt(10)"
   ]
  },
  {
   "attachments": {},
   "cell_type": "markdown",
   "metadata": {},
   "source": [
    "#### Paso 2: Standar Error Desviation\n",
    "$$ SED = \\sqrt{ \\frac{\\sigma_1^2}{N_1} + \\frac{\\sigma_1^2}{N_2} } = \\sqrt{\\frac{(S_1^2)}{n_1} + \\frac{(S_2^2)}{n_2} }$$"
   ]
  },
  {
   "cell_type": "code",
   "execution_count": 4,
   "metadata": {},
   "outputs": [],
   "source": [
    "sed = np.sqrt(se_leg**2 + se_wid**2)"
   ]
  },
  {
   "attachments": {},
   "cell_type": "markdown",
   "metadata": {},
   "source": [
    "#### Paso 3\n",
    "\n",
    "$$ t=\\frac{(\\overline{x_1}-\\overline{x_2})}{ SED } = \\frac{(x_1-x_2)}{\\sqrt{\\frac{(S_1^2)}{n_1} + \\frac{(S_2^2)}{n_2} }}$$"
   ]
  },
  {
   "cell_type": "code",
   "execution_count": 5,
   "metadata": {},
   "outputs": [
    {
     "data": {
      "text/plain": [
       "9.436693738890318"
      ]
     },
     "execution_count": 5,
     "metadata": {},
     "output_type": "execute_result"
    }
   ],
   "source": [
    "t = (iris[\"Sepal_Length\"].mean()-iris[\"Sepal_Width\"].mean())/sed\n",
    "t"
   ]
  },
  {
   "cell_type": "code",
   "execution_count": 11,
   "metadata": {},
   "outputs": [
    {
     "data": {
      "text/plain": [
       "Ttest_indResult(statistic=36.548157693982006, pvalue=3.987838114848222e-112)"
      ]
     },
     "execution_count": 11,
     "metadata": {},
     "output_type": "execute_result"
    }
   ],
   "source": [
    "p = ttest_ind(iris[\"Sepal_Length\"], iris[\"Sepal_Width\"])\n",
    "p"
   ]
  },
  {
   "attachments": {},
   "cell_type": "markdown",
   "metadata": {},
   "source": [
    "#### `Conclusion`\n",
    "nuestro valor absoluto t (9.4366) es mayor a p (pvalue=3.987e-112) las distribuciones son muy diferentes, estamos rechazando nuestra H0 (hipotesis nula) de nuestra teoria inicial que era la distribucion de ambas eran muy similares, como no sucede se rechaza la H0 y se va a H1 que indica la distribucion de ambas son muy diferentes\n",
    "\n",
    "Si t < pvalue, se aceptaria H0"
   ]
  },
  {
   "attachments": {},
   "cell_type": "markdown",
   "metadata": {},
   "source": [
    "#### La función ttest_ind de la biblioteca SciPy\n",
    "Se utiliza para realizar una prueba t de dos muestras independientes. La prueba t es una prueba estadística que determina si hay una diferencia significativa entre las medias de dos grupos o muestras independientes.\n",
    "\n",
    "La función devuelve dos valores:\n",
    "\n",
    "- `t_statistic:` el valor de la estadística t calculado.\n",
    "- `p_value:` el valor p asociado a la prueba t.\n",
    "\n",
    "El valor de `t_statistic` se utiliza para determinar la magnitud de la diferencia entre las medias de las dos muestras, mientras que `el p_value` indica la probabilidad de obtener una diferencia tan extrema (o más extrema) entre las medias si la hipótesis nula (que no hay diferencia significativa) es cierta.\n",
    "\n",
    "La `estadística t` es un valor que indica la magnitud de la diferencia entre las medias de las dos muestras y cómo se compara con la variabilidad dentro de las muestras.\n",
    "\n",
    "El `valor p` es la probabilidad de obtener una diferencia igual o más extrema que la observada en las muestras si la hipótesis nula (que las medias son iguales) fuera verdadera. Un valor p bajo (generalmente, por debajo de un umbral de significancia predeterminado, como 0.05) indica que hay evidencia suficiente para rechazar la hipótesis nula y concluir que hay una diferencia significativa entre las medias de las muestras."
   ]
  },
  {
   "attachments": {},
   "cell_type": "markdown",
   "metadata": {},
   "source": [
    "#### `Explicacion`\n",
    "En la prueba t de Student, se calcula un valor de t que representa la diferencia entre las medias de las dos muestras en relación con la variabilidad dentro de las muestras. Cuanto mayor sea el valor de t, mayor será la evidencia en contra de la hipótesis nula.\n",
    "\n",
    "En tu caso, has obtenido un valor de t igual a 9.436693738890318, lo cual es un valor relativamente alto. Además, al aplicar la prueba de t-student utilizando el código p = ttest_ind(iris[\"Sepal_Length\"], iris[\"Sepal_Width\"]), obtuviste un valor de p-value igual a 3.987838114848222e-112.\n",
    "\n",
    "<u>El p-value es una medida que indica la probabilidad de observar los datos actuales o más extremos bajo la suposición de que la hipótesis nula es verdadera</u>. Un p-value muy pequeño sugiere una fuerte evidencia en contra de la hipótesis nula.\n",
    "\n",
    "En este caso, el valor de p-value es extremadamente pequeño (3.987838114848222e-112), lo que indica que la probabilidad de observar los datos actuales o más extremos asumiendo que las distribuciones son muy similares es prácticamente nula. lo que significa que la probabilidad de obtener los resultados observados (o incluso resultados más extremos) asumiendo que las distribuciones de Sepal_Length y Sepal_Width son muy similares (H0 es verdadera) es extremadamente baja.\n",
    "\n",
    "Por lo tanto, dado que el valor de p-value es muy pequeño, se descarta la hipótesis nula (H0) y se acepta la hipótesis alternativa (H1). "
   ]
  },
  {
   "attachments": {},
   "cell_type": "markdown",
   "metadata": {},
   "source": [
    "### B. Correlacion y coeficiente de Pearson"
   ]
  },
  {
   "cell_type": "code",
   "execution_count": 7,
   "metadata": {},
   "outputs": [
    {
     "data": {
      "text/plain": [
       "-0.10936924995064935"
      ]
     },
     "execution_count": 7,
     "metadata": {},
     "output_type": "execute_result"
    }
   ],
   "source": [
    "iris[\"Sepal_Length\"].corr(iris[\"Sepal_Width\"])"
   ]
  },
  {
   "cell_type": "code",
   "execution_count": 9,
   "metadata": {},
   "outputs": [
    {
     "data": {
      "text/plain": [
       "PearsonRResult(statistic=-0.10936924995064937, pvalue=0.1827652152713699)"
      ]
     },
     "execution_count": 9,
     "metadata": {},
     "output_type": "execute_result"
    }
   ],
   "source": [
    "st.pearsonr(iris[\"Sepal_Length\"], iris[\"Sepal_Width\"])"
   ]
  },
  {
   "attachments": {},
   "cell_type": "markdown",
   "metadata": {},
   "source": [
    "#### `Explicacion`\n",
    "- Un valor de -1 indica una correlación negativa perfecta\n",
    "- Un valor de 1 indica una correlación positiva perfecta \n",
    "- Un valor de 0 indica una falta de correlación lineal.\n",
    "\n",
    "El valor del coeficiente de correlación de Pearson obtenido es -0.10936924995064935. Este valor está cerca de cero y es negativo, lo que indica una correlación débil y negativa entre las variables Sepal_Length y Sepal_Width. Sin embargo, el valor de correlación por sí solo no es suficiente para tomar una decisión sobre las hipótesis.\n",
    "\n",
    "El p-value representa la probabilidad de obtener una correlación igual o más extrema que la observada si la hipótesis nula (H0) fuera verdadera. Al observar el p-value asociado, que es 0.1827652152713699, podemos interpretar que hay una probabilidad del 18.3% de obtener un valor de correlación igual o más extremo que el observado si la hipótesis nula (H0) de que las distribuciones de Sepal_Length y Sepal_Width son muy similares fuera verdadera.\n",
    "\n",
    "Dado que el p-value obtenido es mayor que el nivel de significancia típicamente utilizado (como 0.05 o 0.01), no hay suficiente evidencia estadística para rechazar la hipótesis nula (H0) y concluir que las distribuciones de Sepal_Length y Sepal_Width son diferentes. "
   ]
  },
  {
   "attachments": {},
   "cell_type": "markdown",
   "metadata": {},
   "source": [
    "### C. Analisis de la varianza (ANOVA)"
   ]
  },
  {
   "cell_type": "code",
   "execution_count": 10,
   "metadata": {},
   "outputs": [
    {
     "data": {
      "text/plain": [
       "F_onewayResult(statistic=1335.7678308241748, pvalue=3.9878381148486907e-112)"
      ]
     },
     "execution_count": 10,
     "metadata": {},
     "output_type": "execute_result"
    }
   ],
   "source": [
    "f_oneway(iris[\"Sepal_Length\"], iris[\"Sepal_Width\"])"
   ]
  },
  {
   "attachments": {},
   "cell_type": "markdown",
   "metadata": {},
   "source": [
    "#### `Explicacion`\n",
    "\n",
    "En tu caso, el valor del estadístico F obtenido (1335.7678308241748) es bastante alto. Esto sugiere que la variabilidad entre las distribuciones de Sepal_Length y Sepal_Width es significativamente mayor que la variabilidad dentro de las distribuciones.\n",
    "El valor del estadístico (statistic) obtenido indica la diferencia entre las medias de los grupos. En este caso, <u>un valor alto del estadístico sugiere una mayor diferencia entre las distribuciones</u> de Sepal_Length y Sepal_Width.\n",
    "\n",
    "El p-value obtenido representa la probabilidad de obtener una diferencia entre las distribuciones igual o más extrema que la observada si la hipótesis nula (H0) fuera verdadera. \n",
    "El p-value obtenido (3.9878381148486907e-112) es extremadamente bajo, indicando una probabilidad extremadamente baja de obtener el estadístico F observado (o incluso uno más extremo) si asumimos que las distribuciones son muy similares (H0 es verdadera).\n",
    "\n",
    "Dado que el p-value es mucho menor que un nivel de significancia típicamente utilizado (como 0.05 o 0.01), hay suficiente evidencia estadística para rechazar la hipótesis nula (H0) en este caso."
   ]
  },
  {
   "attachments": {},
   "cell_type": "markdown",
   "metadata": {},
   "source": [
    "## Video de P-valu\n",
    "https://www.youtube.com/watch?v=pUPGolV2AE0"
   ]
  }
 ],
 "metadata": {
  "kernelspec": {
   "display_name": "py39",
   "language": "python",
   "name": "python3"
  },
  "language_info": {
   "codemirror_mode": {
    "name": "ipython",
    "version": 3
   },
   "file_extension": ".py",
   "mimetype": "text/x-python",
   "name": "python",
   "nbconvert_exporter": "python",
   "pygments_lexer": "ipython3",
   "version": "3.9.16"
  },
  "orig_nbformat": 4
 },
 "nbformat": 4,
 "nbformat_minor": 2
}
