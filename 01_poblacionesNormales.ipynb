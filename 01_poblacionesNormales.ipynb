{
 "cells": [
  {
   "attachments": {},
   "cell_type": "markdown",
   "metadata": {},
   "source": [
    "# Poblaciones normales\n",
    "## Distribucion Normal\n",
    "- Distribucion normal = Distribucion de Gauss\n",
    "- Su moda = su media = si mediana\n",
    "- Es simetrica\n",
    "- tiene forma de campana\n",
    "\n",
    "<img src=\"https://upload.wikimedia.org/wikipedia/commons/thumb/3/3a/Standard_deviation_diagram_micro.svg/325px-Standard_deviation_diagram_micro.svg.png\" widht = \"500px\">\n",
    "\n",
    "### Ejemplos de poblacion normal\n",
    "- Calorias ingeridas y peso\n",
    "- Presion sanquinea\n",
    "- Tamaño de los coches producidos por una maquina"
   ]
  },
  {
   "attachments": {},
   "cell_type": "markdown",
   "metadata": {},
   "source": [
    "# Introducción al muestreo y teorema central del límite\n",
    "## Muestreo\n",
    "- Tecnica para la seleccion de una muestra\n",
    "- Se obtiene a partir de una poblacion estadistica\n",
    "- La seleccion tiene que ser aleatoria y se espera que sus propiedades sean extrapolables a la poblacion\n",
    "\n",
    "## Tipos de Muestreo\n",
    "### Aleatorio simple\n",
    "Metodo de seleccion de ciertas unidades sacadas de una poblacion de manera que cada una de las muestras tiene la **misma probabilidad** de se elegida\n",
    "Ejm: Loteria\n",
    "\n",
    "### Sistematicos\n",
    "Metodo de **seleccion de ciertas unidades al azar** y a continuacion **se eligen el resto siguiendo 'intervalos regulares' o con 'ciertas condiciones'**\n",
    "Ejm: dar un premio cada cien personas que hagan una inscripcion hasta llegar a un total de mil inscritos\n",
    "\n",
    "### Estratificado\n",
    "Metodo de **seleccion de ciertas unidades por segmentos exclusivos y homogeneos** y, a continuacion, se elige una muestra aleatoria simple de cada segmento\n",
    "Ejm: Division por edades\n",
    "\n",
    "## Teorema del limite central\n",
    "Teoria estadistica que establece que, dada una muestra aleatoria suficientemente grande de la poblacion, la distribucion de las medias seguira una distribucion normal\n"
   ]
  }
 ],
 "metadata": {
  "language_info": {
   "name": "python"
  },
  "orig_nbformat": 4
 },
 "nbformat": 4,
 "nbformat_minor": 2
}
