{
 "cells": [
  {
   "attachments": {},
   "cell_type": "markdown",
   "metadata": {},
   "source": [
    "# Distribucion normal (gaussiana)\n",
    "$$P(X) = \\frac{1}{σ\\sqrt{2\\pi}} exp - \\frac{1}{2} \\begin{pmatrix} \\frac{X-μ}{σ} \\end{pmatrix}^2$$"
   ]
  },
  {
   "attachments": {},
   "cell_type": "markdown",
   "metadata": {},
   "source": [
    "## Otras distribuciones\n",
    "- Exponencial\n",
    "- Pareto \n",
    "- Gamma\n",
    "- Beta"
   ]
  }
 ],
 "metadata": {
  "language_info": {
   "name": "python"
  },
  "orig_nbformat": 4
 },
 "nbformat": 4,
 "nbformat_minor": 2
}
