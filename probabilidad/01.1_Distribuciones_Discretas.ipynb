{
 "cells": [
  {
   "attachments": {},
   "cell_type": "markdown",
   "metadata": {},
   "source": [
    "# Distribuciones Discretas\n",
    "## Distribucion de Bernoulli o binomial\n",
    "Variables con ocurrencias binarias\n",
    "$$P(X=1)=p$$\n",
    "$$P(X=0)=1-p$$\n",
    "\n",
    "$$P(k_{caras}| n_{lanzamientos}) = P(k; n, p)$$\n",
    "### Combinador\n",
    "$$P(k;n,p) = \\begin{pmatrix} n \\\\ k \\end{pmatrix} = \\frac{n!}{k!(n-k)!}$$\n",
    "\n",
    "## Ecuacion distribucion binomial\n",
    "p_success = #estados success * p\n",
    "$$P(k;n,p) = \\begin{pmatrix} n \\\\ k \\end{pmatrix} p^k (1-p)^{n-k}$$\n",
    "\n",
    "## Otras distribuciones\n",
    "- Distribucion multinomial\n",
    "- Poisson\n",
    "- Geometrica\n",
    "- Hipergeometrica\n",
    "- Binomial negativa"
   ]
  }
 ],
 "metadata": {
  "language_info": {
   "name": "python"
  },
  "orig_nbformat": 4
 },
 "nbformat": 4,
 "nbformat_minor": 2
}
