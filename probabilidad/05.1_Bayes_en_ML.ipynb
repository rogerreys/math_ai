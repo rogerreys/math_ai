{
 "cells": [
  {
   "attachments": {},
   "cell_type": "markdown",
   "metadata": {},
   "source": [
    "# MAP (Maximun Aposteriory - maximizar la probabilidad posterior) vs MLE\n",
    "\n",
    "$h$ Hipotesis\n",
    "\n",
    "$D:$ Datos\n",
    "\n",
    "$$ P(h|D) = \\frac{P(D|h)P(h)}{P(D)} $$\n",
    "\n",
    "### MLE\n",
    "\n",
    "$$max P(h|D) = P(D|h)P(h)$$\n",
    "\n",
    "$max P(h|D)$ es simplemente obtener unos parametros a partir de los datos y no obtener los datos a partir de los parametros\n",
    "\n",
    "\n",
    "## Clasificador de Naive Bayes - Clasificacion con Bayes \n",
    "Es el clasificador mas sencillo\n",
    "\n",
    "<img src=\"https://static.platzi.com/media/user_upload/1-7f1c567a-ea6d-4cbd-b151-9eb21c655520.jpg\" height=\"300\" width=\"500\">\n",
    "\n",
    "Sera calcular \n",
    "\n",
    "$max P(h|D) = maxP(D|h)P(h)$\n",
    "\n",
    "$P(h):$ Modelo a considerar (regresion lineal, logistica (sigmoides y $\\Beta$))\n",
    "\n",
    "$P(D|h):$ Son difisiles de calcular porque son Extremadamente gigante\n",
    "\n",
    "## Optimal Bayes Clasifier\n",
    "Dado el problema de $P(D|h)$, el optimal Bayes no se asume ninguna clasificacion sobre esta probabilidades.\n",
    "Calculas las probabilidades de manera muy exacta, necesita mucho computo\n",
    "\n",
    "\n",
    "Dado el problema de computo del optimal bayes, \n",
    "Se factorizar en el producto de probabilidades\n",
    "\n",
    "$$P(D|h) = P({x_1,x_2, ...,x_n}|h) = P(x_1|h)P(x_2|h)...P(x_n|h)$$\n",
    "\n",
    "Las probabilidades que resultan son mas sencillas, porque se pueden iterar un modelo para cada probabilidad, reduciendo el espacio muestral, a esto se conoce como Naive Bayes"
   ]
  }
 ],
 "metadata": {
  "language_info": {
   "name": "python"
  },
  "orig_nbformat": 4
 },
 "nbformat": 4,
 "nbformat_minor": 2
}
