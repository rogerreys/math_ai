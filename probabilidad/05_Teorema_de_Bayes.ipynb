{
 "cells": [
  {
   "attachments": {},
   "cell_type": "markdown",
   "metadata": {},
   "source": [
    "# TEOREMA DE BAYES\n",
    "$P(A|B):$ Posteriori → Es la probabilidad de observar los eventos de la probabilidad A dada la evidencia B\n",
    "\n",
    "$P(B|A):$ Verosimilitud → Evidancia dado la creencia inicial\n",
    "\n",
    "$P(A):$ Priori → Es la probabilidad de la creencia inicial (No refleja la realidad)\n",
    "\n",
    "$P(B):$ Evidencia \n",
    "\n",
    "$$ P(A|B) = \\frac{P(B|A)P(A)}{P(B)} $$\n",
    "\n",
    "## Ejemplo\n",
    "Test medico: mamografia (sensitividad 80% | mujeres>40)\n",
    "\n",
    "$y:$ determina si el **paciente** tiene cancer\n",
    "\n",
    "$x:$ determina el **resultado de la prueba** si es positivo a cancer\n",
    "|||\n",
    "|--|--|\n",
    "|Verosimilitud:| $p(x=1;y=1) = 0.8$ |\n",
    "|Prior:| $p(y=1)=0.004$ |\n",
    "|Falsos positivos:| $p(x=1;y=0)=0.1$ |\n",
    "\n",
    "\n",
    "$$ P(y=1|x=1) = \\frac{P(x=1|y=1)P(y=1)}{P(x=1)}  $$\n",
    "\n",
    "Calculando la evidencia\n",
    "\n",
    "$Evidencia = Marginal = p(x) = \\displaystyle\\sum_y p(x|y)p(y) $\n",
    "\n",
    "$p(x) = p(x=1|y=1)p(y=1) + p(x=1|y=0)p(y=0)$\n",
    "\n",
    "$p(x) = 0.8*0.004 + 0.1*0.996 = 0.1028$\n",
    "\n",
    "Probabilidad\n",
    "\n",
    "$ P(y=1|x=1) = \\frac{P(x=1|y=1)P(y=1)}{P(x=1)}  $\n",
    "\n",
    "$ P(y=1|x=1) = \\frac{0.8*0.004}{0.1028} = 0.031 = 3.1\\%$ "
   ]
  }
 ],
 "metadata": {
  "language_info": {
   "name": "python"
  },
  "orig_nbformat": 4
 },
 "nbformat": 4,
 "nbformat_minor": 2
}
