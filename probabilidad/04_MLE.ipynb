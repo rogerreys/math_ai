{
 "cells": [
  {
   "attachments": {},
   "cell_type": "markdown",
   "metadata": {},
   "source": [
    "# MLE (Estimacion de maxima verosimilitud - Maximum likelihood Estimation)\n",
    "- Es un framework para estimacion de densidades de probabilidad\n",
    "- Permite estimamar densidades de probabilidad dentro de un esquema de trabajo muy general\n",
    "\n",
    "**Escoger la distribucion:** Teniendo solo una muestra de los datos\n",
    "\n",
    "**Escoger los parametros de la distribucion:** Que mejor ajustan la distribucion a los datos, \n",
    "\n",
    "**MLE es un problema de optimizacion**\n",
    "\n",
    "$$P(X;\\theta) = L(X;\\theta)$$\n",
    "$$maxL(X;\\theta) → max \\prod_{i}P(X_i;\\theta)$$\n",
    "\n",
    "Al factorizar distribuciones de probabilidad, el producto se hace cada vez mas pequeño, (esto es malo genera underflour) para resolver esto se aplica el logaritmo de las probabilidades.\n",
    "\n",
    "El logaritmo de un producto, es la suma de los logaritmos (Propiedad), convirtiendo el problema de producto a sumas\n",
    "\n",
    "$$max \\space log\\space L(X;\\theta) → max \\sum_{i} \\space log \\space P(X_i;\\theta)$$"
   ]
  }
 ],
 "metadata": {
  "language_info": {
   "name": "python"
  },
  "orig_nbformat": 4
 },
 "nbformat": 4,
 "nbformat_minor": 2
}
