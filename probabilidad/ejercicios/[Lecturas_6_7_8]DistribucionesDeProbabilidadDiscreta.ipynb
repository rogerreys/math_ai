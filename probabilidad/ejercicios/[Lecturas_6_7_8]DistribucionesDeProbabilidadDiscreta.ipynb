{
  "cells": [
    {
      "cell_type": "markdown",
      "metadata": {
        "id": "Tq1c5_KzUaCG"
      },
      "source": [
        "# Distribuciones discretas (e.j. binomial)\n",
        "\n",
        "---\n",
        "\n",
        "\n",
        "\n",
        "Recordando que la distribución binomial está dada por: \n",
        "\n",
        "$$\n",
        "P(k, n; p) = {n \\choose k} p^k (1-p)^{n-k} = \\frac{n!}{k!(n-k)!}p^k (1-p)^{n-k}\n",
        "$$\n",
        "\n",
        "donde $P(k, n; p)$ representa la probabilidad de obtener $k$ éxitos de $n$ intentos con posibilidad **binaria** (por ejemplo, lanzamientos de moneda). \n",
        "\n",
        "`Ejemplo`: la probabilidad de obtener 4 caras a partir de 10 lanzamientos consecutivos de moneda, está dada por (tomando $p=0.5$, por lo tanto $1-p=0.5$): \n",
        "\n",
        "$$\n",
        "P(k=4, n=10; p=0.5) = {10 \\choose 4} \\left( \\frac{1}{2}\\right)^{10} = \\frac{10!}{4!6!} \\left( \\frac{1}{2}\\right)^{10}\n",
        "$$\n",
        "\n",
        "---\n",
        "\n",
        "Ahora, la probabilidad de obtener $k$ o menos éxitos a partir de $n$ intentos está dada por la distribución acumulada: \n",
        "\n",
        "$$\n",
        "C(k, n; p) = \\sum_{i=0}^k P(i, n;p) = \\sum_{i=0}^k {n \\choose i} p^i (1-p)^{n-i}\n",
        "$$ \n",
        "\n",
        "Por convención entendemos que:\n",
        "\n",
        "$$C(k=3,n=6;p=0.5) = P(k \\leq 3, n=6, p=0.5 )$$\n",
        "\n",
        "\n",
        "`Ejemplo`: la probabilidad de obtener 3 o menos caras a partir de 6 lanzamientos consecutivos está dada por (tomando $p=0.5$, por lo tanto $1-p=0.5$): \n",
        "\n",
        "$$P(k \\leq 3, n=6;p=0.5) = \\sum_{i=0}^3 {6 \\choose i} \\left(\\frac{1}{2} \\right)^6 $$\n",
        "\n",
        "$$P(k \\leq 3, n=6;p=0.5) = \\left(\\frac{1}{2} \\right)^6 \\sum_{i=0}^3 {6 \\choose i} $$\n",
        "\n",
        "$$P(k \\leq 3, n=6;p=0.5) = \\left(\\frac{1}{2} \\right)^6 \\left\\{ {6 \\choose 0} + {6 \\choose 1} + {6 \\choose 2} + {6 \\choose 3} \\right\\}$$\n"
      ]
    },
    {
      "attachments": {},
      "cell_type": "markdown",
      "metadata": {
        "id": "_03BrIqTkkH1"
      },
      "source": [
        "# Ejercicios (bloque 1)\n",
        "\n",
        "Calcula a mano las siguientes probabilidades (tomando $p=0.5$, por lo tanto $1-p=0.5$):\n",
        "\n",
        "1. Probabilidad de obtener 3 caras a partir de 12 lanzamientos de moneda. r=5.4%\n",
        "\n",
        "2. Probabilidad de obtener 5 o menos caras a partir de 10 lanzamientos de moneda. r=62.3%\n",
        "\n",
        "3. Probabilidad de obtener menos de 6 caras a partir de 10 lanzamientos de moneda. r= 82.81%\n",
        "\n",
        "Calcula a mano las mismas probabilidades anteriores pero considerando ahora $p=0.3$."
      ]
    },
    {
      "cell_type": "markdown",
      "metadata": {
        "id": "JW8Nt8avmVuB"
      },
      "source": [
        "# Bonus en Python"
      ]
    },
    {
      "cell_type": "code",
      "execution_count": 6,
      "metadata": {
        "id": "8cphK5HBUTaj"
      },
      "outputs": [],
      "source": [
        "import numpy as np\n",
        "from scipy.stats import binom\n",
        "from math import factorial\n",
        "import matplotlib.pyplot as plt\n",
        "# definición de la distribución binomial \n",
        "def my_binomial(k, n, p):\n",
        "  return factorial(n)/(factorial(k)*(factorial(n-k)))*pow(p,k)*pow(1-p, n-k)"
      ]
    },
    {
      "cell_type": "markdown",
      "metadata": {
        "id": "F-UASz0RmZVA"
      },
      "source": [
        "Usando la función `my_binomial()`, definida previamente, verifica el cálculo de todas las probabilidades del punto anterior.\n",
        "\n",
        "Ejemplo:\n",
        "\n",
        "$$P(k \\leq 3, n=6, p=0.5)$$\n",
        "\n",
        "Se traduce en :\n",
        "\n",
        "```python\n",
        "total = 0\n",
        "for n in range(4):\n",
        "  total += my_binomial(i,6,0.5)\n",
        "\n",
        "print(total) \n",
        "```"
      ]
    },
    {
      "cell_type": "code",
      "execution_count": 32,
      "metadata": {
        "id": "6p9n3hA-mYoP"
      },
      "outputs": [
        {
          "name": "stdout",
          "output_type": "stream",
          "text": [
            "0.65625\n"
          ]
        }
      ],
      "source": [
        "# escribe tu codigo aquí:\n",
        "n=6\n",
        "p=0.5\n",
        "\n",
        "def f():\n",
        "    x_arr = [0,1,2,3]\n",
        "    y_arr = []\n",
        "    \n",
        "    sim = np.unique(x_arr, return_counts=True)[1]\n",
        "    y_arr = [binom(n,p).pmf(value) for value in x_arr]\n",
        "\n",
        "    plt.bar(x_arr, y_arr)\n",
        "\n",
        "def comulative(m):\n",
        "    total=0\n",
        "    for i in range(m):\n",
        "        total += my_binomial(i,n,p)\n",
        "    return total\n",
        "\n",
        "print(comulative(4))\n"
      ]
    }
  ],
  "metadata": {
    "colab": {
      "provenance": []
    },
    "kernelspec": {
      "display_name": "Python 3",
      "name": "python3"
    },
    "language_info": {
      "codemirror_mode": {
        "name": "ipython",
        "version": 3
      },
      "file_extension": ".py",
      "mimetype": "text/x-python",
      "name": "python",
      "nbconvert_exporter": "python",
      "pygments_lexer": "ipython3",
      "version": "3.9.16"
    }
  },
  "nbformat": 4,
  "nbformat_minor": 0
}
