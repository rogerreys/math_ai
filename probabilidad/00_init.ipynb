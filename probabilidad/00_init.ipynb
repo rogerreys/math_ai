{
 "cells": [
  {
   "attachments": {},
   "cell_type": "markdown",
   "metadata": {},
   "source": [
    "# Axiomas de la probabilidad\n",
    "La probabilidad es una creencia sobre la ocurrencia de eventos elementales\n",
    "\n",
    "$P = \\frac{N° sucesos exitosos}{N° sucesos totales}$\n",
    "\n",
    "# Probabilidad en Maching Learning\n",
    "## Fuentes de incertidumbre \n",
    "- `Datos:` Debido a que nuestros instrumentos de medición tienen un margen de error, se presentan datos imperfectos e incompletos, por lo tanto hay incertidumbre en los datos.\n",
    "\n",
    "- `Atributos del modelo:` Son variables que representan un subconjunto reducido de toda la realidad del problema, estas variables provienen de los datos y por lo tanto presentan cierto grado de incertidumbre.\n",
    "\n",
    "- `Arquitectura del modelo:` Un modelo en mates es una representación simplificada de la realidad y al ser así, por construcción, induce otra capa de incertidumbre, ya que al ser una representación simplificada se considera mucho menos información.\n",
    "\n",
    "Todo esta incertidumbre se puede cuantificar con probabilidad:\n",
    "Ejemplo, un clasificador de documento de texto:\n",
    "\n",
    "<img src=\"https://static.platzi.com/media/user_upload/1-7f1c567a-ea6d-4cbd-b151-9eb21c655520.jpg\" height=\"300\" width=\"500\">\n",
    "\n",
    "¿cómo funciona por dentro nuestro modelo de clasificación?\n",
    "\n",
    "<img src=\"https://static.platzi.com/media/user_upload/2-84ba3506-44dd-46e8-8e3b-72d4330bf8e1.jpg\" height=\"300\" width=\"500\">\n",
    "\n",
    "\n",
    "# Tipos de probabilidad\n",
    "- Conjunta (joint)\n",
    "- Marginal\n",
    "- Condicional\n",
    "\n",
    "## Probabilidad Conjunta\n",
    "Es la probabilidad que considera la ocurrencia de diferentes pero simultaneos eventos aleatorios\n",
    "\n",
    "**(probabilidades diferentes pero eventos simultaneos)**\n",
    "$$P(A,B) = P(A\\&B) = P(A∩B)$$\n",
    "\n",
    "## Probabilidad condicional\n",
    "La probabilidad condicional se relaciona con la conjunta por medio de la regla de producto\n",
    "$$P(A\\quad dado\\quad B) = P(A|B)$$\n",
    "\n",
    "### Regla de producto\n",
    "P(B): Probabilidad marginal\n",
    "\n",
    "$$P(A ∩ B)= P(A|B)P(B)$$\n"
   ]
  },
  {
   "attachments": {},
   "cell_type": "markdown",
   "metadata": {},
   "source": [
    "### Ejemplo\n",
    "<p>Ejemplo de la ruleta</p>\n",
    "<img src=\"https://static.platzi.com/media/user_upload/Probabilidad-0eef886f-27e4-42f9-a977-532b7f6e7d69.jpg\">"
   ]
  },
  {
   "attachments": {},
   "cell_type": "markdown",
   "metadata": {},
   "source": [
    "### Ejemplo avanzado\n",
    "Ejemplo de las puertas\n",
    "<img src=\"https://static.platzi.com/media/user_upload/2-a15a24d0-76ff-43aa-accf-1eafe942f9c2.jpg\">"
   ]
  }
 ],
 "metadata": {
  "kernelspec": {
   "display_name": "py39",
   "language": "python",
   "name": "python3"
  },
  "language_info": {
   "name": "python",
   "version": "3.9.16"
  },
  "orig_nbformat": 4
 },
 "nbformat": 4,
 "nbformat_minor": 2
}
