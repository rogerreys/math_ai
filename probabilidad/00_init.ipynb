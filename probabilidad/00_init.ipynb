{
 "cells": [
  {
   "attachments": {},
   "cell_type": "markdown",
   "metadata": {},
   "source": [
    "# Axiomas de la probabilidad\n",
    "La probabilidad es una creencia sobre la ocurrencia de eventos elementales\n",
    "\n",
    "$P = \\frac{N° sucesos exitosos}{N° sucesos totales}$\n",
    "\n",
    "# Probabilidad en Maching Learning\n",
    "## Fuentes de incertidumbre \n",
    "- Datos\n",
    "- Atributos de modelo\n",
    "- Arquitectura del modelo\n",
    "\n",
    "Todo esta incertidumbre se puede cuantificar con probabilidad:\n",
    "Ejemplo, un clasificador de documento de texto:\n",
    "\n",
    "<img src=\"https://static.platzi.com/media/user_upload/1-7f1c567a-ea6d-4cbd-b151-9eb21c655520.jpg\" height=\"300\" width=\"500\">\n",
    "\n",
    "¿cómo funciona por dentro nuestro modelo de clasificación?\n",
    "\n",
    "<img src=\"https://static.platzi.com/media/user_upload/2-84ba3506-44dd-46e8-8e3b-72d4330bf8e1.jpg\" height=\"300\" width=\"500\">\n",
    "\n",
    "\n",
    "# Tipos de probabilidad\n",
    "- Conjunta (joint)\n",
    "- Marginal\n",
    "- Condicional\n",
    "\n",
    "## Probabilidad Conjunta\n",
    "Es la probabilidad que considera la ocurrencia de diferentes pero simultaneos eventos aleatorios\n",
    "\n",
    "$$P(A,B) = P(A\\&B) = P(A∩B)$$\n",
    "\n",
    "## Probabilidad condicional\n",
    "$$P(A\\quad dado\\quad B) = P(A|B)$$\n",
    "\n",
    "La probabilidad condicional se relaciona con la conjunta por medio de la regla de producto\n",
    "\n",
    "### Regla de producto\n",
    "P(B): Probabilidad marginal\n",
    "\n",
    "$$P(A ∩ B)= P(A|B)P(B)$$\n"
   ]
  },
  {
   "attachments": {},
   "cell_type": "markdown",
   "metadata": {},
   "source": [
    "### Ejemplo\n",
    "<p>Ejemplo de la ruleta</p>\n",
    "<img src=\"https://static.platzi.com/media/user_upload/Probabilidad-0eef886f-27e4-42f9-a977-532b7f6e7d69.jpg\">"
   ]
  },
  {
   "attachments": {},
   "cell_type": "markdown",
   "metadata": {},
   "source": [
    "### Ejemplo avanzado\n",
    "Ejemplo de las puertas\n",
    "<img src=\"https://static.platzi.com/media/user_upload/2-a15a24d0-76ff-43aa-accf-1eafe942f9c2.jpg\">"
   ]
  },
  {
   "attachments": {},
   "cell_type": "markdown",
   "metadata": {},
   "source": [
    "# Distribucion - Densidad de porbabilidad\n",
    "## Probabilidad de ocurrencia\n",
    "X = Variable aleatoria\n",
    "x = Valores posibles en el espacio muestran \n",
    "$$P(X=x)$$\n",
    "$$P=F(x)$$\n",
    "### Dom(X)\n",
    "|Discreto|Continuo|\n",
    "|---|---|\n",
    "|{1,2,3,4,5,6}|$[0,\\infty]$|\n",
    "\n",
    "## Distribucion acumulada\n",
    "Func Probabilidad Acumulada = $P(X<x)=\\int_{X<x} P(X) \\, dx=C(X)$\n",
    "\n",
    "## Distribucion acumulada para funcion discreta \n",
    "$P(X<x) = \\sum \\limits_{X<x} P(x)$\n"
   ]
  }
 ],
 "metadata": {
  "kernelspec": {
   "display_name": "py39",
   "language": "python",
   "name": "python3"
  },
  "language_info": {
   "name": "python",
   "version": "3.9.16"
  },
  "orig_nbformat": 4
 },
 "nbformat": 4,
 "nbformat_minor": 2
}
