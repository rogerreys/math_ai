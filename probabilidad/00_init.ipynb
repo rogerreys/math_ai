{
 "cells": [
  {
   "attachments": {},
   "cell_type": "markdown",
   "metadata": {},
   "source": [
    "# Axiomas de la probabilidad\n",
    "La probabilidad es una creencia sobre la ocurrencia de eventos elementales\n",
    "\n",
    "$P = \\frac{N° sucesos exitosos}{N° sucesos totales}$\n",
    "\n",
    "# Probabilidad en Maching Learning\n",
    "## Fuentes de incertidumbre \n",
    "- Datos\n",
    "- Atributos de modelo\n",
    "- Arquitectura del modelo\n",
    "\n",
    "Todo esta incertidumbre se puede cuantificar con probabilidad:\n",
    "Ejemplo, un clasificador de documento de texto:\n",
    "\n",
    "<img src=\"https://static.platzi.com/media/user_upload/1-7f1c567a-ea6d-4cbd-b151-9eb21c655520.jpg\" height=\"300\" width=\"500\">\n",
    "\n",
    "¿cómo funciona por dentro nuestro modelo de clasificación?\n",
    "\n",
    "<img src=\"https://static.platzi.com/media/user_upload/2-84ba3506-44dd-46e8-8e3b-72d4330bf8e1.jpg\" height=\"300\" width=\"500\">\n",
    "\n",
    "\n",
    "# Tipos de probabilidad\n",
    "- Conjunta (joint)\n",
    "- Marginal\n",
    "- Condicional\n",
    "## Probabilidad condicional\n",
    "P(A dado B)$ = P(A|B)$\n",
    "\n",
    "$P(A ∩ B)= P(A|B)P(B)$"
   ]
  }
 ],
 "metadata": {
  "kernelspec": {
   "display_name": "py39",
   "language": "python",
   "name": "python3"
  },
  "language_info": {
   "name": "python",
   "version": "3.9.16"
  },
  "orig_nbformat": 4
 },
 "nbformat": 4,
 "nbformat_minor": 2
}
