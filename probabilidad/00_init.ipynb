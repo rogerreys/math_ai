{
 "cells": [
  {
   "attachments": {},
   "cell_type": "markdown",
   "metadata": {},
   "source": [
    "# Axiomas de la probabilidad\n",
    "La probabilidad es una creencia sobre la ocurrencia de eventos elementales\n",
    "\n",
    "$P = \\frac{N° sucesos exitosos}{N° sucesos totales}$\n",
    "\n",
    "# Probabilidad en Maching Learning\n",
    "## Fuentes de incertidumbre \n",
    "- Datos\n",
    "- Atributos de modelo\n",
    "- Arquitectura del modelo\n",
    "\n",
    "Todo esta incertidumbre se puede cuantificar con probabilidad:\n",
    "Ejemplo, un clasificador de documento de texto:\n",
    "\n",
    "<img src=\"https://static.platzi.com/media/user_upload/1-7f1c567a-ea6d-4cbd-b151-9eb21c655520.jpg\" height=\"300\" width=\"500\">\n",
    "\n",
    "¿cómo funciona por dentro nuestro modelo de clasificación?\n",
    "\n",
    "<img src=\"https://static.platzi.com/media/user_upload/2-84ba3506-44dd-46e8-8e3b-72d4330bf8e1.jpg\" height=\"300\" width=\"500\">\n",
    "\n",
    "\n",
    "# Tipos de probabilidad\n",
    "- Conjunta (joint)\n",
    "- Marginal\n",
    "- Condicional\n",
    "\n",
    "## Probabilidad Conjunta\n",
    "Es la probabilidad que considera la ocurrencia de diferentes pero simultaneos eventos aleatorios\n",
    "\n",
    "**(probabilidades diferentes pero eventos simultaneos)**\n",
    "$$P(A,B) = P(A\\&B) = P(A∩B)$$\n",
    "\n",
    "## Probabilidad condicional\n",
    "La probabilidad condicional se relaciona con la conjunta por medio de la regla de producto\n",
    "$$P(A\\quad dado\\quad B) = P(A|B)$$\n",
    "\n",
    "### Regla de producto\n",
    "P(B): Probabilidad marginal\n",
    "\n",
    "$$P(A ∩ B)= P(A|B)P(B)$$\n"
   ]
  },
  {
   "attachments": {},
   "cell_type": "markdown",
   "metadata": {},
   "source": [
    "### Ejemplo\n",
    "<p>Ejemplo de la ruleta</p>\n",
    "<img src=\"https://static.platzi.com/media/user_upload/Probabilidad-0eef886f-27e4-42f9-a977-532b7f6e7d69.jpg\">"
   ]
  },
  {
   "attachments": {},
   "cell_type": "markdown",
   "metadata": {},
   "source": [
    "### Ejemplo avanzado\n",
    "Ejemplo de las puertas\n",
    "<img src=\"https://static.platzi.com/media/user_upload/2-a15a24d0-76ff-43aa-accf-1eafe942f9c2.jpg\">"
   ]
  },
  {
   "attachments": {},
   "cell_type": "markdown",
   "metadata": {},
   "source": [
    "# Distribucion - Densidad de porbabilidad\n",
    "## Probabilidad de ocurrencia\n",
    "X = Variable aleatoria\n",
    "\n",
    "x = **Valores posibles** en el espacio muestran \n",
    "$$P(X=x)$$\n",
    "$$P=F(x)$$\n",
    "### Dom(X)\n",
    "|Discreto|Continuo|\n",
    "|---|---|\n",
    "|{1,2,3,4,5,6}|$[0,\\infty]$|\n",
    "\n",
    "## Distribucion acumulada para funciones continuas\n",
    "**Func Probabilidad Acumulada** = $P(X<x)=\\int_{X<x} P(X) \\, dx=C(X)$\n",
    "\n",
    "## Distribucion acumulada para funcion discreta \n",
    "$P(X<x) = \\sum \\limits_{X<x} P(x)$\n",
    "\n",
    "### Ejemplo\n",
    "<img src='https://static.platzi.com/media/user_upload/Captura-0e029939-1d35-4d57-9c33-171f3ca4d5ef.jpg'>"
   ]
  },
  {
   "attachments": {},
   "cell_type": "markdown",
   "metadata": {},
   "source": [
    "# Distribuciones Discretas\n",
    "## Distribucion de Bernoulli o binomial\n",
    "Variables con ocurrencias binarias\n",
    "$$P(X=1)=p$$\n",
    "$$P(X=0)=1-p$$\n",
    "\n",
    "$$P(k_{caras}| n_{lanzamientos}) = P(k; n, p)$$\n",
    "### Combinador\n",
    "$$P(k;n,p) = \\begin{pmatrix} n \\\\ k \\end{pmatrix} = \\frac{n!}{k!(n-k)!}$$\n",
    "\n",
    "### Eucuacion distribucion binomial\n",
    "p_success = #estados success * p\n",
    "$$P(k;n,p) = \\begin{pmatrix} n \\\\ k \\end{pmatrix} p^k (1-p)^{n-k}$$\n",
    "\n",
    "## Otras distribuciones\n",
    "- Distribucion multinomial\n",
    "- Poisson\n",
    "- Geometrica\n",
    "- Hipergeometrica\n",
    "- Binomial negativa"
   ]
  }
 ],
 "metadata": {
  "kernelspec": {
   "display_name": "py39",
   "language": "python",
   "name": "python3"
  },
  "language_info": {
   "name": "python",
   "version": "3.9.16"
  },
  "orig_nbformat": 4
 },
 "nbformat": 4,
 "nbformat_minor": 2
}
