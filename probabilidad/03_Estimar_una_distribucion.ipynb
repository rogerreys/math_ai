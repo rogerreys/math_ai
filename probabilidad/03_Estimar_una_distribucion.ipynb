{
 "cells": [
  {
   "attachments": {},
   "cell_type": "markdown",
   "metadata": {},
   "source": [
    "# Estimar una distribucion\n",
    "## Estimacion parametrica\n",
    "Consiste en fuerza los parametros de la distribucion\n",
    "\n",
    "## Estimacion no parametrica\n",
    "`Kernel Density estimation` \n",
    "* [parámetro de suavizado]: smoothing parameter (bandwidth)\n",
    "* [función base]: basis function (kernel)"
   ]
  }
 ],
 "metadata": {
  "language_info": {
   "name": "python"
  },
  "orig_nbformat": 4
 },
 "nbformat": 4,
 "nbformat_minor": 2
}
