{
 "cells": [
  {
   "attachments": {},
   "cell_type": "markdown",
   "metadata": {},
   "source": [
    "# Distribucion - Densidad de probabilidad\n",
    "## Probabilidad de ocurrencia\n",
    "X = Variable aleatoria\n",
    "\n",
    "x = **Valores posibles** en el espacio muestran \n",
    "$$P(X=x)$$\n",
    "$$P=F(x)$$\n",
    "### Dom(X)\n",
    "|Discreto|Continuo|\n",
    "|---|---|\n",
    "|{1,2,3,4,5,6}|$[0,\\infty]$|\n",
    "\n",
    "## Distribucion acumulada para funciones continuas\n",
    "**Func Probabilidad Acumulada** = $P(X<x)=\\int_{X<x} P(X) \\, dx=C(X)$\n",
    "### Ejemplo\n",
    "<img src='https://static.platzi.com/media/user_upload/Captura-0e029939-1d35-4d57-9c33-171f3ca4d5ef.jpg'>\n",
    "\n",
    "## Distribucion acumulada para funcion discreta \n",
    "$P(X<x) = \\sum \\limits_{X<x} P(x)$\n"
   ]
  }
 ],
 "metadata": {
  "language_info": {
   "name": "python"
  },
  "orig_nbformat": 4
 },
 "nbformat": 4,
 "nbformat_minor": 2
}
