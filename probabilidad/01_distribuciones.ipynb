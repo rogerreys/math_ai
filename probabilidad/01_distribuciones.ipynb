{
 "cells": [
  {
   "attachments": {},
   "cell_type": "markdown",
   "metadata": {},
   "source": [
    "# Distribucion - Densidad de porbabilidad\n",
    "## Probabilidad de ocurrencia\n",
    "X = Variable aleatoria\n",
    "\n",
    "x = **Valores posibles** en el espacio muestran \n",
    "$$P(X=x)$$\n",
    "$$P=F(x)$$\n",
    "### Dom(X)\n",
    "|Discreto|Continuo|\n",
    "|---|---|\n",
    "|{1,2,3,4,5,6}|$[0,\\infty]$|\n",
    "\n",
    "## Distribucion acumulada para funciones continuas\n",
    "**Func Probabilidad Acumulada** = $P(X<x)=\\int_{X<x} P(X) \\, dx=C(X)$\n",
    "\n",
    "## Distribucion acumulada para funcion discreta \n",
    "$P(X<x) = \\sum \\limits_{X<x} P(x)$\n",
    "\n",
    "### Ejemplo\n",
    "<img src='https://static.platzi.com/media/user_upload/Captura-0e029939-1d35-4d57-9c33-171f3ca4d5ef.jpg'>"
   ]
  },
  {
   "attachments": {},
   "cell_type": "markdown",
   "metadata": {},
   "source": [
    "# Distribuciones Discretas\n",
    "## Distribucion de Bernoulli o binomial\n",
    "Variables con ocurrencias binarias\n",
    "$$P(X=1)=p$$\n",
    "$$P(X=0)=1-p$$\n",
    "\n",
    "$$P(k_{caras}| n_{lanzamientos}) = P(k; n, p)$$\n",
    "### Combinador\n",
    "$$P(k;n,p) = \\begin{pmatrix} n \\\\ k \\end{pmatrix} = \\frac{n!}{k!(n-k)!}$$\n",
    "\n",
    "### Eucuacion distribucion binomial\n",
    "p_success = #estados success * p\n",
    "$$P(k;n,p) = \\begin{pmatrix} n \\\\ k \\end{pmatrix} p^k (1-p)^{n-k}$$\n",
    "\n",
    "## Otras distribuciones\n",
    "- Distribucion multinomial\n",
    "- Poisson\n",
    "- Geometrica\n",
    "- Hipergeometrica\n",
    "- Binomial negativa"
   ]
  }
 ],
 "metadata": {
  "language_info": {
   "name": "python"
  },
  "orig_nbformat": 4
 },
 "nbformat": 4,
 "nbformat_minor": 2
}
