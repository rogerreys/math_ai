{
 "cells": [
  {
   "attachments": {},
   "cell_type": "markdown",
   "metadata": {},
   "source": [
    "1. ¿Para qué sirve la estadística inferencial?\n",
    "`RES:` Ayuda a generar predicciones a partir de una muestra de una población de datos.\n",
    "\n",
    "2. ¿Qué es la probabilidad condicionada?\n",
    "`RES:` Posibilidad de que ocurra un evento como consecuencia de que otro evento haya sucedido.\n",
    "3. ¿Qué característica cumple una distribución normal?\n",
    "`RES:` Su moda = su media = su mediana.\n",
    "\n",
    "4. ¿Cuáles son los tipos de muestreo?\n",
    "`RES:` Aleatorio simple, sistemático y estratificado.\n",
    "\n",
    "5. ¿Qué establece el teorema del límite central?\n",
    "`RES:` Dada una muestra aleatoria suficientemente grande de la población, la distribución de las medias seguirá una distribución normal.\n",
    "\n",
    "6. ¿Para qué sirve la función sample en Python en usos estadísticos?\n",
    "`RES:` Elegir un determinado número de registros aleatorios al hacer muestreo.\n",
    "\n",
    "7. ¿Cuándo es útil el muestreo estratificado?\n",
    "`RES:` Queremos elegir la proporción en la que aparecen los datos.\n",
    "\n",
    "8. ¿Cómo se calcula la desviación estándar?\n",
    "`RES:` Con la raíz cuadrada de la varianza.\n",
    "\n",
    "9. ¿Qué función de Python se utiliza para calcular la varianza?\n",
    "`RES:` var()\n",
    "\n",
    "10. Saber las edades de los clientes de un banco con un intervalo de confianza del 9.. indica que:\n",
    "`RES:` Estamos un 9.. convencidos de los valores entre los cuales se encuentran sus edades .\n",
    "\n",
    "11. ¿Qué indica el valor de Z al calcular intervalos de confianza?\n",
    "`RES:` Cuál es el valor mínimo y máximo de nuestro intervalo de confianza.\n",
    "\n",
    "12. ¿Con cuál librería de Python podemos calcular intervalos de confianza?\n",
    "`RES:` scipy.stats\n",
    "\n",
    "13. Una prueba de hipótesis requiere tener una hipótesis nula y una alternativa. ¿Esto es verdadero o falso?\n",
    "`RES:` Verdadero\n",
    "\n",
    "14. Decir que dos experimentos verdaderos cuando no lo son es:\n",
    "`ERROR:` Error tipo II.\n",
    "`RES:` Error tipo I.\n",
    "\n",
    "15. Si el valor absoluto del valor t es mayor que el valor crítico, entonces rechazamos la hipótesis nula. Esto es:\n",
    "`RES:` Verdadero\n",
    "\n",
    "16. ¿Cuándo es útil utilizar bootstrapping en muestreo estadístico?\n",
    "`RES:` Al tener muestras pequeñas.\n",
    "\n",
    "17. ¿Para qué sirve la validación cruzada?\n",
    "`RES:` Garantizar que los resultados son INDEPENDIENTES de la partición entre datos de entrenamiento y prueba."
   ]
  }
 ],
 "metadata": {
  "language_info": {
   "name": "python"
  },
  "orig_nbformat": 4
 },
 "nbformat": 4,
 "nbformat_minor": 2
}
